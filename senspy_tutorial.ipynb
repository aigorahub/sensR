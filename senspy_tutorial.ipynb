{
  "nbformat": 4,
  "nbformat_minor": 5,
  "metadata": {
    "kernelspec": {
      "display_name": "Python 3",
      "language": "python",
      "name": "python3"
    },
    "language_info": {
      "codemirror_mode": {
        "name": "ipython",
        "version": 3
      },
      "file_extension": ".py",
      "mimetype": "text/x-python",
      "name": "python",
      "nbconvert_exporter": "python",
      "pygments_lexer": "ipython3",
      "version": "3.10.x"
    }
  },
  "cells": [
    {
      "cell_type": "markdown",
      "metadata": {},
      "source": [
        "# sensPy Tutorial: Getting Started\n",
        "This notebook provides a basic tutorial for the `sensPy` package, the Python port of the R package `sensR`."
      ]
    },
    {
      "cell_type": "markdown",
      "metadata": {},
      "source": [
        "## 1. Installation\n",
        "First, let's install `sensPy` directly from its GitHub repository."
      ]
    },
    {
      "cell_type": "code",
      "execution_count": null,
      "metadata": {},
      "outputs": [],
      "source": [
        "# Ensure you have internet connectivity in your Colab environment for this step\n",
        "!pip install git+https://github.com/aigorahub/sensPy.git"
      ]
    },
    {
      "cell_type": "markdown",
      "metadata": {},
      "source": [
        "## 2. Imports\n",
        "Now, let's import the necessary modules from `sensPy` and other common libraries."
      ]
    },
    {
      "cell_type": "code",
      "execution_count": null,
      "metadata": {},
      "outputs": [],
      "source": [
        "import numpy as np\n",
        "import pandas as pd # Optional, for data handling\n",
        "import senspy.models as spm\n",
        "import senspy.discrimination as spd\n",
        "import senspy.power as spp\n",
        "\n",
        "# Attempt to import and print version (if available)\n",
        "try:\n",
        "    from senspy.utils import version # Corrected to use 'version' from utils\n",
        "    print(f\"sensPy version: {version()}\")\n",
        "except ImportError:\n",
        "    try:\n",
        "        import senspy\n",
        "        print(f\"sensPy version: {senspy.__version__}\")\n",
        "    except (ImportError, AttributeError):\n",
        "        print(\"sensPy version information not found. Ensure package is installed correctly.\")"
      ]
    },
    {
      "cell_type": "markdown",
      "metadata": {},
      "source": [
        "## 3. Core Models API Examples\n",
        "sensPy primarily uses an object-oriented API for its statistical models. You first create a model instance, then `fit()` it to your data, and then you can get a `summary()` or `confint()` (confidence intervals)."
      ]
    },
    {
      "cell_type": "markdown",
      "metadata": {},
      "source": [
        "### 3.1. Beta-Binomial Model (`BetaBinomial`)\n",
        "Used for overdispersed binomial data."
      ]
    },
    {
      "cell_type": "code",
      "execution_count": null,
      "metadata": {},
      "outputs": [],
      "source": [
        "x_bb = np.array([20, 25])\n",
        "n_bb = np.array([50, 50])\n",
        "\n",
        "bb_model = spm.BetaBinomial()\n",
        "bb_model.fit(x_bb, n_bb, corrected=False)\n",
        "\n",
        "print(\"--- BetaBinomial Summary ---\")\n",
        "print(bb_model.summary())\n",
        "conf_intervals_bb = bb_model.confint(parm=['alpha', 'beta'], method_ci='profile') # Changed method to method_ci\n",
        "print(\"\\n--- BetaBinomial Confidence Intervals (Profile) ---\")\n",
        "print(conf_intervals_bb)\n",
        "print(f\"\\nFitted alpha: {bb_model.alpha:.4f}, beta: {bb_model.beta:.4f}\")"
      ]
    },
    {
      "cell_type": "markdown",
      "metadata": {},
      "source": [
        "### 3.2. General Discrimination Model (`DiscriminationModel`)\n",
        "Used for various discrimination methods like 2-AFC, Triangle, etc. The `spd.discrim()` function is a wrapper around this."
      ]
    },
    {
      "cell_type": "code",
      "execution_count": null,
      "metadata": {},
      "outputs": [],
      "source": [
        "disc_model = spm.DiscriminationModel()\n",
        "disc_model.fit(correct=75, total=100, method=\"2afc\")\n",
        "\n",
        "print(\"--- DiscriminationModel Summary (2AFC) ---\")\n",
        "print(disc_model.summary())\n",
        "ci_disc_profile = disc_model.confint(method_ci='profile')\n",
        "print(\"\\n--- DiscriminationModel Confidence Intervals (Profile for d-prime) ---\")\n",
        "print(ci_disc_profile)\n",
        "print(f\"\\nFitted d-prime: {disc_model.dprime:.4f}\")"
      ]
    },
    {
      "cell_type": "markdown",
      "metadata": {},
      "source": [
        "### 3.3. Two-Alternative Choice Model with Bias (`TwoACModel`)\n",
        "Estimates sensitivity (delta) and bias (tau)."
      ]
    },
    {
      "cell_type": "code",
      "execution_count": null,
      "metadata": {},
      "outputs": [],
      "source": [
        "twoac_model = spm.TwoACModel()\n",
        "twoac_model.fit(hits=70, false_alarms=15, n_signal_trials=100, n_noise_trials=100)\n",
        "\n",
        "print(\"--- TwoACModel Summary ---\")\n",
        "print(twoac_model.summary())\n",
        "ci_twoac_profile = twoac_model.confint(method_ci='profile')\n",
        "print(\"\\n--- TwoACModel Confidence Intervals (Profile) ---\")\n",
        "print(ci_twoac_profile)\n",
        "print(f\"\\nFitted delta: {twoac_model.delta:.4f}, tau: {twoac_model.tau:.4f}\")"
      ]
    },
    {
      "cell_type": "markdown",
      "metadata": {},
      "source": [
        "### 3.4. Degree of Difference Model (`DoDModel`)"
      ]
    },
    {
      "cell_type": "code",
      "execution_count": null,
      "metadata": {},
      "outputs": [],
      "source": [
        "same_counts_dod = np.array([10, 20, 70])\n",
        "diff_counts_dod = np.array([70, 20, 10])\n",
        "\n",
        "dod_model = spm.DoDModel()\n",
        "dod_model.fit(same_counts_dod, diff_counts_dod)\n",
        "\n",
        "print(\"--- DoDModel Summary ---\")\n",
        "print(dod_model.summary())\n",
        "# Note: CIs for tpar are returned from Wald; Profile CIs are more complex for DoD\n",
        "ci_dod_profile = dod_model.confint(parm=['d_prime', 'tpar_0', 'tpar_1'], method_ci='profile')\n",
        "print(\"\\n--- DoDModel Confidence Intervals (Profile) ---\")\n",
        "print(ci_dod_profile)\n",
        "print(f\"\\nFitted d-prime: {dod_model.d_prime:.4f}, tau: {dod_model.tau}\")"
      ]
    },
    {
      "cell_type": "markdown",
      "metadata": {},
      "source": [
        "### 3.5. Same-Different Model (`SameDifferentModel`)"
      ]
    },
    {
      "cell_type": "code",
      "execution_count": null,
      "metadata": {},
      "outputs": [],
      "source": [
        "sd_model = spm.SameDifferentModel()\n",
        "sd_model.fit(nsamesame=70, ndiffsame=30, nsamediff=25, ndiffdiff=75)\n",
        "\n",
        "print(\"--- SameDifferentModel Summary ---\")\n",
        "print(sd_model.summary())\n",
        "ci_sd_profile = sd_model.confint(method_ci='profile')\n",
        "print(\"\\n--- SameDifferentModel Confidence Intervals (Profile) ---\")\n",
        "print(ci_sd_profile)\n",
        "print(f\"\\nFitted delta: {sd_model.delta:.4f}, tau: {sd_model.tau:.4f}\")"
      ]
    },
    {
      "cell_type": "markdown",
      "metadata": {},
      "source": [
        "## 4. Functional Wrappers\n",
        "For quick analyses or users more comfortable with a functional style, `senspy.discrimination` provides wrappers that return dictionaries."
      ]
    },
    {
      "cell_type": "code",
      "execution_count": null,
      "metadata": {},
      "outputs": [],
      "source": [
        "discrim_dict_result = spd.discrim(correct=60, total=90, method=\"triangle\")\n",
        "print(\"--- spd.discrim (functional wrapper) output ---\")\n",
        "for key, value in discrim_dict_result.items():\n",
        "    if isinstance(value, float): print(f\"  {key}: {value:.4f}\")\n",
        "    else: print(f\"  {key}: {value}\")"
      ]
    },
    {
      "cell_type": "markdown",
      "metadata": {},
      "source": [
        "## 5. Power and Sample Size (`senspy.power`)\n",
        "Calculate statistical power or required sample size."
      ]
    },
    {
      "cell_type": "code",
      "execution_count": null,
      "metadata": {},
      "outputs": [],
      "source": [
        "# Calculate power for a discrimination task (exact binomial method)\n",
        "power_res_exact = spp.power_discrim(\n",
        "    d_prime_alt=0.8, \n",
        "    n_trials=50, \n",
        "    method=\"2afc\", \n",
        "    d_prime_null=0.0, \n",
        "    alpha_level=0.05, \n",
        "    alternative=\"greater\"\n",
        ")\n",
        "print(\"--- Power Calculation (Exact Method) ---\")\n",
        "print(f\"Power: {power_res_exact.power:.4f}\")\n",
        "print(f\"Method Type: {power_res_exact.method_type}\")\n",
        "print(f\"Details: {power_res_exact.details}\")\n",
        "\n",
        "# Calculate required sample size (exact binomial method)\n",
        "n_required_exact = spp.sample_size_discrim(\n",
        "    d_prime_alt=0.8, \n",
        "    target_power=0.8, \n",
        "    method=\"2afc\", \n",
        "    d_prime_null=0.0, \n",
        "    alpha_level=0.05, \n",
        "    alternative=\"greater\"\n",
        ")\n",
        "print(\"\\n--- Sample Size Calculation (Exact Method) ---\")\n",
        "print(f\"Required N: {n_required_exact}\")\n",
        "\n",
        "# Power calculation using normal approximation\n",
        "power_res_approx = spp.power_discrim_normal_approx(\n",
        "    d_prime_alt=0.8, \n",
        "    n_trials=50, \n",
        "    method=\"2afc\",\n",
        "    d_prime_null=0.0,\n",
        "    alpha_level=0.05,\n",
        "    alternative=\"greater\"\n",
        ")\n",
        "print(\"\\n--- Power Calculation (Normal Approximation) ---\")\n",
        "if power_res_approx and isinstance(power_res_approx, spp.PowerResult): # Check it's PowerResult\n",
        "    print(f\"Power: {power_res_approx.power:.4f}\")\n",
        "    print(f\"Details: {power_res_approx.details}\")"
      ]
    },
    {
      "cell_type": "markdown",
      "metadata": {},
      "source": [
        "## 6. Other Utilities\n",
        "`senspy.discrimination` also contains link functions (`psyfun`, `psyinv`, `psyderiv`, `rescale`), ROC utilities (`SDT`, `AUC`), and d-prime hypothesis tests (`dprime_test`, `dprime_compare`)."
      ]
    },
    {
      "cell_type": "code",
      "execution_count": null,
      "metadata": {},
      "outputs": [],
      "source": [
        "pc_val = spd.psyfun(dprime=1.2, method=\"triangle\")\n",
        "print(f\"Proportion correct for d'=1.2 (triangle): {pc_val:.4f}\")\n",
        "\n",
        "sdt_counts = np.array([[50,30,15,5], [5,15,30,50]]) # Noise, Signal\n",
        "sdt_output = spd.SDT(sdt_counts)\n",
        "print(\"\\n--- SDT Output (zFA, zH, d-prime per criterion) ---\")\n",
        "print(sdt_output)"
      ]
    },
    {
      "cell_type": "markdown",
      "metadata": {},
      "source": [
        "## Conclusion\n",
        "This notebook covered the basic installation and usage of key features in `sensPy`. For more details, please refer to the official documentation and the `guide_to_switch.md` if you are coming from `sensR`."
      ]
    }
  ]
}
